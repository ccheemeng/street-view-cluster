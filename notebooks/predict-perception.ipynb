{
 "cells": [
  {
   "cell_type": "markdown",
   "metadata": {},
   "source": [
    "If Dockerfiles have not been modified, connect to the Jupyter server with ```http://localhost:8014/tree?token=predict-perception```.  \n",
    "\n",
    "This notebook provides an interface to predict the perception of an encoding as a ```.json``` given a model as a ```.pkl``` that accepts the encoding.  "
   ]
  },
  {
   "cell_type": "code",
   "execution_count": null,
   "metadata": {},
   "outputs": [],
   "source": [
    "target_dir = \"data\"\n",
    "input_dir = \"shunfu-segmented-point-clouds-combined-encoded\"\n",
    "model_filename = \"best-segmented-point-cloud-models/.pkl\"\n",
    "scaler_filename = \"best-segmented-point-cloud-models/scaler.pkl\"\n",
    "output_dir = \"shunfu-perceptions\""
   ]
  },
  {
   "cell_type": "code",
   "execution_count": null,
   "metadata": {},
   "outputs": [],
   "source": [
    "import joblib\n",
    "import matplotlib.pyplot as plt\n",
    "import numpy as np\n",
    "import pandas as pd\n",
    "\n",
    "import json\n",
    "import os\n",
    "from pathlib import Path"
   ]
  },
  {
   "cell_type": "code",
   "execution_count": null,
   "metadata": {},
   "outputs": [],
   "source": [
    "with open(os.path.join(target_dir, model_filename), \"rb\") as fp:\n",
    "    svr = joblib.load(fp)\n",
    "with open(os.path.join(target_dir, scaler_filename), \"rb\") as fp:\n",
    "    scaler = joblib.load(fp)\n",
    "xs_path = []\n",
    "for dirpath, dirnames, filenames in os.walk(os.path.join(target_dir, input_dir)):\n",
    "    xs_path.extend(filenames)\n",
    "    break\n",
    "xs_id = {}\n",
    "for x_path in xs_path:\n",
    "    with open(os.path.join(target_dir, input_dir, x_path), 'r') as fp:\n",
    "        xs_id['.'.join(x_path.split('.')[:-1])] = json.load(fp)\n",
    "xs_df = pd.DataFrame.from_dict(xs_id, orient='index')\n",
    "X = xs_df.values\n",
    "X_scaled = scaler.transform(X)\n",
    "y = svr.predict(X_scaled)"
   ]
  }
 ],
 "metadata": {
  "kernelspec": {
   "display_name": "Python 3 (ipykernel)",
   "language": "python",
   "name": "python3"
  },
  "language_info": {
   "codemirror_mode": {
    "name": "ipython",
    "version": 3
   },
   "file_extension": ".py",
   "mimetype": "text/x-python",
   "name": "python",
   "nbconvert_exporter": "python",
   "pygments_lexer": "ipython3",
   "version": "3.12.7"
  }
 },
 "nbformat": 4,
 "nbformat_minor": 2
}
