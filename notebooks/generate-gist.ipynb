{
 "cells": [
  {
   "cell_type": "markdown",
   "metadata": {},
   "source": [
    "If Dockerfiles have not been modified, connect to the Jupyter server with ```http://localhost:8003/tree?token=generate-gist```  \n",
    "\n",
    "This notebook describes a pipeline to evaluate the GIST descriptor of an image.  \n",
    "It takes an input ```.jpg``` (resized to 512×256px) and outputs its GIST descriptor as a 3000×1 matrix saved as a ```.csv```.  \n",
    "This uses [lear-gist-python](https://github.com/whitphx/lear-gist-python/tree/master), a Python implementation of [Oliva and Torralba (2001)]((https://people.csail.mit.edu/torralba/code/spatialenvelope)), and [FFTW](https://www.fftw.org/).  \n",
    "\n",
    "Oliva, A., Torralba, A. Modeling the Shape of the Scene: A Holistic Representation of the Spatial Envelope. International Journal of Computer Vision 42, 145–175 (2001). https://doi.org/10.1023/A:1011139631724"
   ]
  },
  {
   "cell_type": "code",
   "execution_count": 20,
   "metadata": {},
   "outputs": [],
   "source": [
    "target_dir = \"data\"\n",
    "input_dir = \"shunfu-panos\"\n",
    "output_dir = \"shunfu-gists\""
   ]
  },
  {
   "cell_type": "code",
   "execution_count": 21,
   "metadata": {},
   "outputs": [],
   "source": [
    "import gist\n",
    "import numpy as np\n",
    "import PIL.Image as Image\n",
    "\n",
    "import csv\n",
    "import os\n",
    "from pathlib import Path"
   ]
  },
  {
   "cell_type": "code",
   "execution_count": 22,
   "metadata": {},
   "outputs": [],
   "source": [
    "images_path = []\n",
    "for dirpath, dirnames, filenames in os.walk(os.path.join(target_dir, input_dir)):\n",
    "    images_path.extend(filenames)\n",
    "    break\n",
    "\n",
    "Path(os.path.join(target_dir, output_dir)).mkdir(parents=True, exist_ok=True)\n",
    "\n",
    "for image_path in images_path:\n",
    "    if image_path.endswith(\".jpg\"):\n",
    "        image = None\n",
    "        with Image.open(os.path.join(target_dir, input_dir, image_path)) as im:\n",
    "            image = np.asarray(im.resize((512, 256)))\n",
    "        if image is not None:\n",
    "            im_gist = gist.extract(image, nblocks=5, orientations_per_scale=(8, 8, 8, 8, 8)).tolist()\n",
    "            with open(os.path.join(target_dir, output_dir, image_path.removesuffix(\".jpg\") + \".csv\"), 'w') as fp:\n",
    "                csv_writer = csv.writer(fp)\n",
    "                for i in im_gist:\n",
    "                    csv_writer.writerow([i])"
   ]
  }
 ],
 "metadata": {
  "kernelspec": {
   "display_name": "Python 3 (ipykernel)",
   "language": "python",
   "name": "python3"
  }
 },
 "nbformat": 4,
 "nbformat_minor": 2
}
