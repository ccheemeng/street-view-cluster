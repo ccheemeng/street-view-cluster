{
 "cells": [
  {
   "cell_type": "markdown",
   "metadata": {},
   "source": [
    "If Dockerfiles have not been modified, connect to the Jupyter server with:  \n",
    "- ```http://localhost:8013/tree?token=encode-segmented-point-clouds-cpu``` to run Torch on CPU  "
   ]
  },
  {
   "cell_type": "code",
   "execution_count": 28,
   "metadata": {},
   "outputs": [],
   "source": [
    "target_dir = \"data\"\n",
    "input_dir = \"shunfu-point-clouds-sampled\"\n",
    "output_dir = \"shunfu-point-clouds-encoded\""
   ]
  },
  {
   "cell_type": "code",
   "execution_count": 2,
   "metadata": {},
   "outputs": [],
   "source": [
    "import gdown"
   ]
  },
  {
   "cell_type": "code",
   "execution_count": 3,
   "metadata": {},
   "outputs": [],
   "source": [
    "!gdown https://drive.google.com/uc?id=1ySQq3SRBgk2Vt5Bvj-0N7jDPi0QTPZiZ&export=download=0&confirm=t"
   ]
  },
  {
   "cell_type": "code",
   "execution_count": 10,
   "metadata": {},
   "outputs": [
    {
     "name": "stderr",
     "output_type": "stream",
     "text": [
      "Permission denied: https://drive.google.com/uc?id=1ySQq3SRBgk2Vt5Bvj-0N7jDPi0QTPZiZ&authuser=0&export=download=0&confirm=t\n"
     ]
    }
   ],
   "source": [
    "url = \"https://drive.google.com/uc?id=1ySQq3SRBgk2Vt5Bvj-0N7jDPi0QTPZiZ&authuser=0&export=download=0&confirm=t\"\n",
    "output = \"./Heavy_KPFCNN.zip\"\n",
    "gdown.download(url, output, quiet=False)                                                                                                                        "
   ]
  }
 ],
 "metadata": {
  "kernelspec": {
   "display_name": "Python 3 (ipykernel)",
   "language": "python",
   "name": "python3"
  },
  "language_info": {
   "codemirror_mode": {
    "name": "ipython",
    "version": 3
   },
   "file_extension": ".py",
   "mimetype": "text/x-python",
   "name": "python",
   "nbconvert_exporter": "python",
   "pygments_lexer": "ipython3",
   "version": "3.12.7"
  }
 },
 "nbformat": 4,
 "nbformat_minor": 2
}
