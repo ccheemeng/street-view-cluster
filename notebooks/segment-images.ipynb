{
 "cells": [
  {
   "cell_type": "markdown",
   "metadata": {},
   "source": [
    "If Dockerfiles have not been modified, connect to the Jupyter server with:  \n",
    "- ```http://localhost:8011/tree?token=segment-images-cpu``` to run Torch on CPU  \n",
    "\n",
    "This notebook describes a pipeline to semantically segment an image with the [OpenMMLab Semantic Segmentation Toolbox and Benchmark](https://github.com/open-mmlab/mmsegmentation).  It takes an input image and saves (1) the inference of the class of each pixel as a ```.json```, (2) a dictionary of classes and their corresponding id as a ```.json```, and (3) a visualisation of the segmented image as a ```.jpg```."
   ]
  },
  {
   "cell_type": "code",
   "execution_count": 1,
   "metadata": {},
   "outputs": [],
   "source": [
    "target_dir = \"data\"\n",
    "input_dir = \"place-pulse-singapore-512-1024-panos\"\n",
    "segmentation_dir = \"place-pulse-singapore-512-1024-segmented\"\n",
    "visualisaion_dir = \"place-pulse-singapore-512-1024-segmented-visualised\"\n",
    "checkpoint_link = \"https://download.openmmlab.com/mmsegmentation/v0.5/fcn/fcn_d6_r101-d16_512x1024_80k_cityscapes/fcn_d6_r101-d16_512x1024_80k_cityscapes_20210308_102747-cb336445.pth\"\n",
    "config_file = \"./configs/fcn/fcn-d6_r101-d16_4xb2-80k_cityscapes-512x1024.py\"\n",
    "checkpoint_file = \"./fcn_d6_r101-d16_512x1024_80k_cityscapes_20210308_102747-cb336445.pth\""
   ]
  },
  {
   "cell_type": "code",
   "execution_count": 2,
   "metadata": {},
   "outputs": [],
   "source": [
    "from mmseg.apis import inference_model, init_model, show_result_pyplot\n",
    "import mmcv\n",
    "import numpy as np\n",
    "\n",
    "import json\n",
    "import os\n",
    "from pathlib import Path"
   ]
  },
  {
   "cell_type": "code",
   "execution_count": 3,
   "metadata": {},
   "outputs": [
    {
     "name": "stdout",
     "output_type": "stream",
     "text": [
      "--2024-10-14 22:36:19--  https://download.openmmlab.com/mmsegmentation/v0.5/fcn/fcn_d6_r101-d16_512x1024_80k_cityscapes/fcn_d6_r101-d16_512x1024_80k_cityscapes_20210308_102747-cb336445.pth\n",
      "Resolving download.openmmlab.com (download.openmmlab.com)... 163.181.199.244, 163.181.199.245, 163.181.199.241, ...\n",
      "Connecting to download.openmmlab.com (download.openmmlab.com)|163.181.199.244|:443... connected.\n",
      "HTTP request sent, awaiting response... 200 OK\n",
      "Length: 274512456 (262M) [application/octet-stream]\n",
      "Saving to: ‘fcn_d6_r101-d16_512x1024_80k_cityscapes_20210308_102747-cb336445.pth.4’\n",
      "\n",
      "fcn_d6_r101-d16_512 100%[===================>] 261.79M  29.1MB/s    in 8.9s    \n",
      "\n",
      "2024-10-14 22:36:28 (29.3 MB/s) - ‘fcn_d6_r101-d16_512x1024_80k_cityscapes_20210308_102747-cb336445.pth.4’ saved [274512456/274512456]\n",
      "\n"
     ]
    },
    {
     "name": "stderr",
     "output_type": "stream",
     "text": [
      "/usr/local/lib/python3.11/site-packages/mmseg/models/builder.py:36: UserWarning: ``build_loss`` would be deprecated soon, please use ``mmseg.registry.MODELS.build()`` \n",
      "  warnings.warn('``build_loss`` would be deprecated soon, please use '\n",
      "/usr/local/lib/python3.11/site-packages/mmseg/models/losses/cross_entropy_loss.py:250: UserWarning: Default ``avg_non_ignore`` is False, if you would like to ignore the certain label and average loss over non-ignore labels, which is the same with PyTorch official cross_entropy, set ``avg_non_ignore=True``.\n",
      "  warnings.warn(\n"
     ]
    },
    {
     "name": "stdout",
     "output_type": "stream",
     "text": [
      "Loads checkpoint by local backend from path: ./fcn_d6_r101-d16_512x1024_80k_cityscapes_20210308_102747-cb336445.pth\n"
     ]
    }
   ],
   "source": [
    "!wget {checkpoint_link}\n",
    "model = init_model(config_file, checkpoint_file, device=\"cpu\")"
   ]
  },
  {
   "cell_type": "code",
   "execution_count": 4,
   "metadata": {},
   "outputs": [
    {
     "name": "stderr",
     "output_type": "stream",
     "text": [
      "/usr/local/lib/python3.11/site-packages/mmengine/visualization/visualizer.py:196: UserWarning: Failed to add <class 'mmengine.visualization.vis_backend.LocalVisBackend'>, please provide the `save_dir` argument.\n",
      "  warnings.warn(f'Failed to add {vis_backend.__class__}, '\n",
      "/usr/local/lib/python3.11/site-packages/mmengine/visualization/visualizer.py:196: UserWarning: Failed to add <class 'mmengine.visualization.vis_backend.LocalVisBackend'>, please provide the `save_dir` argument.\n",
      "  warnings.warn(f'Failed to add {vis_backend.__class__}, '\n"
     ]
    }
   ],
   "source": [
    "images_path = []\n",
    "for dirpath, dirnames, filenames in os.walk(os.path.join(target_dir, input_dir)):\n",
    "    images_path.extend(filenames)\n",
    "    break\n",
    "images_id = {}\n",
    "for image_path in images_path:\n",
    "    images_id['.'.join(image_path.split('.')[:-1])] = os.path.join(target_dir, input_dir, image_path)\n",
    "\n",
    "Path(os.path.join(target_dir, segmentation_dir)).mkdir(parents=True, exist_ok=True)\n",
    "Path(os.path.join(target_dir, visualisaion_dir)).mkdir(parents=True, exist_ok=True)\n",
    "with open(os.path.join(target_dir, \"classes.json\"), 'w') as fp:\n",
    "    json.dump({index: class_name for index, class_name in enumerate(model.dataset_meta[\"classes\"])}, fp)\n",
    "for id, path in images_id.items():\n",
    "    if Path(os.path.join(target_dir, segmentation_dir, f\"{id}.json\")).is_file():\n",
    "        continue\n",
    "    image = mmcv.imread(path)\n",
    "    result = inference_model(model, image)\n",
    "    output = np.argmax(result.seg_logits.data, axis=0).tolist()\n",
    "    with open(os.path.join(target_dir, segmentation_dir, f\"{id}.json\"), 'w') as fp:\n",
    "        json.dump(output, fp)\n",
    "    show_result_pyplot(model, image, result, show=True, out_file=os.path.join(target_dir, visualisaion_dir, f\"{id}.jpg\"), opacity=0.5)  "
   ]
  }
 ],
 "metadata": {
  "kernelspec": {
   "display_name": "Python 3 (ipykernel)",
   "language": "python",
   "name": "python3"
  }
 },
 "nbformat": 4,
 "nbformat_minor": 2
}
