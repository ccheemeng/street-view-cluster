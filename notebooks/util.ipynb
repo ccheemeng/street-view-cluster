{
 "cells": [
  {
   "cell_type": "markdown",
   "metadata": {},
   "source": [
    "If Dockerfiles have not been modified, connect to the Jupyter server with ```http://localhost:8000/tree?token=util```"
   ]
  },
  {
   "cell_type": "markdown",
   "metadata": {},
   "source": [
    "The following block takes the base Place Pulse Singapore data file (```place-pulse-singapore.csv``` by default) and generates a ```.csv``` of unique location IDs and their corresponding latitudes and longitudes."
   ]
  },
  {
   "cell_type": "code",
   "execution_count": 1,
   "metadata": {},
   "outputs": [],
   "source": [
    "target_dir = \"data\"\n",
    "input = \"place-pulse-singapore.csv\"\n",
    "output = \"place-pulse-singapore-locations.csv\"\n",
    "\n",
    "import pandas as pd\n",
    "\n",
    "import os\n",
    "\n",
    "df = pd.read_csv(os.path.join(target_dir, input))\n",
    "df.columns = [\"id\", \"location_id\", \"lat\", \"lon\", \"num_votes\", \"perception\", \"trueskill_score\", \"trueskill_stds\"]\n",
    "df = df.drop_duplicates(subset=[\"location_id\"])[[\"location_id\", \"lat\", \"lon\"]]\n",
    "df.columns = [\"id\", \"lat\", \"lon\"]\n",
    "with open(os.path.join(target_dir, output), 'w') as fp:\n",
    "    df.to_csv(fp, index=False)"
   ]
  },
  {
   "cell_type": "markdown",
   "metadata": {},
   "source": [
    "The following block takes a ```.csv``` without headers describing the cartesian (xyz) coordinates of a point cloud and returns ```.csv``` describing a point cloud with 1024 points via furthest-point sampling.  "
   ]
  },
  {
   "cell_type": "code",
   "execution_count": null,
   "metadata": {},
   "outputs": [],
   "source": [
    "target_dir = \"data\"\n",
    "input = \"place-pulse-singapore-point-clouds\"\n",
    "output = \"place-pulse-singapore-point-clouds-sampled\"\n",
    "\n",
    "import fpsample\n",
    "import numpy as np\n",
    "\n",
    "import csv\n",
    "import os\n",
    "from pathlib import Path\n",
    "\n",
    "point_clouds_path = []\n",
    "for dirpath, dirnames, filenames in os.walk(os.path.join(target_dir, input)):\n",
    "    point_clouds_path.extend(filenames)\n",
    "    break\n",
    "point_clouds_id = {}\n",
    "for point_cloud_path in point_clouds_path:\n",
    "    point_clouds_id['.'.join(point_cloud_path.split('.')[:-1])] = os.path.join(target_dir, input, point_cloud_path)\n",
    "\n",
    "Path(os.path.join(target_dir, output)).mkdir(parents=True, exist_ok=True)\n",
    "for id, path in point_clouds_id.items():\n",
    "    point_cloud = []\n",
    "    with open(path, 'r') as fp:\n",
    "        csv_reader = csv.reader(fp)\n",
    "        for row in csv_reader:\n",
    "            point_cloud.append([float(i) for i in row])\n",
    "    if len(point_cloud) <= 0:\n",
    "        continue\n",
    "    fps_samples_idx = fpsample.fps_sampling(np.array(point_cloud), 1024)\n",
    "    point_cloud_sampled = [point_cloud[i] for i in fps_samples_idx]\n",
    "    with open(os.path.join(target_dir, output, id + \".csv\"), 'w') as fp:\n",
    "        csv_writer = csv.writer(fp)\n",
    "        csv_writer.writerows(point_cloud_sampled)"
   ]
  }
 ],
 "metadata": {
  "kernelspec": {
   "display_name": "Python 3 (ipykernel)",
   "language": "python",
   "name": "python3"
  },
  "language_info": {
   "codemirror_mode": {
    "name": "ipython",
    "version": 3
   },
   "file_extension": ".py",
   "mimetype": "text/x-python",
   "name": "python",
   "nbconvert_exporter": "python",
   "pygments_lexer": "ipython3",
   "version": "3.12.7"
  }
 },
 "nbformat": 4,
 "nbformat_minor": 2
}
