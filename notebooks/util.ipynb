{
 "cells": [
  {
   "cell_type": "markdown",
   "metadata": {},
   "source": [
    "If Dockerfiles have not been modified, connect to the Jupyter server with ```http://localhost:8000/tree```"
   ]
  },
  {
   "cell_type": "markdown",
   "metadata": {},
   "source": [
    "The following block takes the base Place Pulse Singapore data file (```place-pulse-singapore.csv``` by default) and generates a ```.csv``` of unique location IDs and their corresponding latitudes and longitudes."
   ]
  },
  {
   "cell_type": "code",
   "execution_count": 1,
   "metadata": {},
   "outputs": [],
   "source": [
    "target_dir = \"data\"\n",
    "input = \"place-pulse-singapore.csv\"\n",
    "output = \"place-pulse-singapore-locations.csv\"\n",
    "\n",
    "import pandas as pd\n",
    "\n",
    "import os\n",
    "\n",
    "df = pd.read_csv(os.path.join(target_dir, input))\n",
    "df.columns = [\"id\", \"location_id\", \"lat\", \"lon\", \"num_votes\", \"perception\", \"trueskill_score\", \"trueskill_stds\"]\n",
    "df = df.drop_duplicates(subset=[\"location_id\"])[[\"location_id\", \"lat\", \"lon\"]]\n",
    "df.columns = [\"id\", \"lat\", \"lon\"]\n",
    "with open(os.path.join(target_dir, output), 'w') as fp:\n",
    "    df.to_csv(fp, index=False)"
   ]
  }
 ],
 "metadata": {
  "kernelspec": {
   "display_name": "Python 3 (ipykernel)",
   "language": "python",
   "name": "python3"
  },
  "language_info": {
   "codemirror_mode": {
    "name": "ipython",
    "version": 3
   },
   "file_extension": ".py",
   "mimetype": "text/x-python",
   "name": "python",
   "nbconvert_exporter": "python",
   "pygments_lexer": "ipython3",
   "version": "3.12.7"
  }
 },
 "nbformat": 4,
 "nbformat_minor": 2
}
