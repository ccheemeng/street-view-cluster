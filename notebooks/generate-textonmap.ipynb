{
 "cells": [
  {
   "cell_type": "markdown",
   "metadata": {},
   "source": [
    "If Dockerfiles have not been modified, connect to the Jupyter server with ```http://localhost:8004/tree?token=generate-textonmap```  \n",
    "\n",
    "This notebook describes a pipeline to generate the textonmap of an image.  \n",
    "It takes an input ```.jpg``` and outputs its textonmap as a ```.png```.  \n",
    "This uses modified code from [PbLite-Contour-Detection](https://github.com/rohithjayarajan/PbLite-Contour-Detection)."
   ]
  },
  {
   "cell_type": "code",
   "execution_count": 1,
   "metadata": {},
   "outputs": [],
   "source": [
    "target_dir = \"data\"\n",
    "input_dir = \"shunfu-panos\"\n",
    "output_dir = \"shunfu-textonmaps\""
   ]
  },
  {
   "cell_type": "code",
   "execution_count": 2,
   "metadata": {},
   "outputs": [],
   "source": [
    "import os\n",
    "from pathlib import Path"
   ]
  },
  {
   "cell_type": "code",
   "execution_count": 3,
   "metadata": {},
   "outputs": [
    {
     "name": "stdout",
     "output_type": "stream",
     "text": [
      "^C\n",
      "Traceback (most recent call last):\n",
      "  File \"/app/PbLite-Contour-Detection/PbLite.py\", line 534, in <module>\n",
      "    main()\n",
      "  File \"/app/PbLite-Contour-Detection/PbLite.py\", line 530, in main\n",
      "    PbLite(f.removesuffix(\".jpg\"))\n",
      "  File \"/app/PbLite-Contour-Detection/PbLite.py\", line 365, in PbLite\n",
      "    NDImage = ConvolveWithFilterBank(BWImage, DoGFilterBank)\n",
      "              ^^^^^^^^^^^^^^^^^^^^^^^^^^^^^^^^^^^^^^^^^^^^^^\n",
      "  File \"/app/PbLite-Contour-Detection/PbLite.py\", line 264, in ConvolveWithFilterBank\n",
      "    NDImage[:, :, i] = convolve(Image, Filter)\n",
      "                       ^^^^^^^^^^^^^^^^^^^^^^^\n",
      "  File \"/usr/local/lib/python3.12/site-packages/scipy/ndimage/_filters.py\", line 975, in convolve\n",
      "    return _correlate_or_convolve(input, weights, output, mode, cval,\n",
      "           ^^^^^^^^^^^^^^^^^^^^^^^^^^^^^^^^^^^^^^^^^^^^^^^^^^^^^^^^^^\n",
      "  File \"/usr/local/lib/python3.12/site-packages/scipy/ndimage/_filters.py\", line 797, in _correlate_or_convolve\n",
      "    _nd_image.correlate(input, weights, output, mode, cval, origins)\n",
      "KeyboardInterrupt\n"
     ]
    }
   ],
   "source": [
    "input_path = os.path.join(target_dir, input_dir)\n",
    "output_path = os.path.join(target_dir, output_dir)\n",
    "Path(output_path).mkdir(parents=True, exist_ok=True)\n",
    "!cp -a ./{input_path}/. ./PbLite-Contour-Detection/Images/\n",
    "!sh run-pblite.sh\n",
    "!cp -a ./PbLite-Contour-Detection/Results/. ./{output_path}/"
   ]
  }
 ],
 "metadata": {
  "kernelspec": {
   "display_name": "Python 3 (ipykernel)",
   "language": "python",
   "name": "python3"
  },
  "language_info": {
   "codemirror_mode": {
    "name": "ipython",
    "version": 3
   },
   "file_extension": ".py",
   "mimetype": "text/x-python",
   "name": "python",
   "nbconvert_exporter": "python",
   "pygments_lexer": "ipython3",
   "version": "3.12.7"
  }
 },
 "nbformat": 4,
 "nbformat_minor": 2
}
