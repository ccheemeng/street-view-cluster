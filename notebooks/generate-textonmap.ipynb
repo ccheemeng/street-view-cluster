{
 "cells": [
  {
   "cell_type": "markdown",
   "metadata": {},
   "source": [
    "If Dockerfiles have not been modified, connect to the Jupyter server with ```http://localhost:8004/tree?token=generate-textonmap```  \n",
    "\n",
    "This notebook describes a pipeline to generate the textonmap of an image.  \n",
    "It takes an input ```.jpg``` and outputs its textonmap as a ```.png```.  \n",
    "This uses modified code from [PbLite-Contour-Detection](https://github.com/rohithjayarajan/PbLite-Contour-Detection)."
   ]
  },
  {
   "cell_type": "code",
   "execution_count": null,
   "metadata": {},
   "outputs": [],
   "source": [
    "target_dir = \"data\"\n",
    "input_dir = \"place-pulse-singapore-panos\"\n",
    "output_dir = \"place-pulse-singapore-textonmaps\""
   ]
  },
  {
   "cell_type": "code",
   "execution_count": null,
   "metadata": {},
   "outputs": [],
   "source": [
    "import os\n",
    "from pathlib import Path"
   ]
  },
  {
   "cell_type": "code",
   "execution_count": 3,
   "metadata": {},
   "outputs": [],
   "source": [
    "input_path = os.path.join(target_dir, input_dir)\n",
    "output_path = os.path.join(target_dir, output_dir)\n",
    "Path(output_path).mkdir(parents=True, exist_ok=True)\n",
    "!cp -a ./{input_path}/. ./PbLite-Contour-Detection/Images/\n",
    "!sh run-pblite.sh\n",
    "!cp -a ./PbLite-Contour-Detection/Results/. ./{output_path}/"
   ]
  }
 ],
 "metadata": {
  "kernelspec": {
   "display_name": "Python 3 (ipykernel)",
   "language": "python",
   "name": "python3"
  },
  "language_info": {
   "codemirror_mode": {
    "name": "ipython",
    "version": 3
   },
   "file_extension": ".py",
   "mimetype": "text/x-python",
   "name": "python",
   "nbconvert_exporter": "python",
   "pygments_lexer": "ipython3",
   "version": "3.12.7"
  }
 },
 "nbformat": 4,
 "nbformat_minor": 2
}
