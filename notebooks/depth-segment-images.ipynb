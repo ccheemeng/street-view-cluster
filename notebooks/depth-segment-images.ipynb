{
 "cells": [
  {
   "cell_type": "markdown",
   "metadata": {},
   "source": [
    "If Dockerfiles have not been modified, connect to the Jupyter server with:  \n",
    "- ```http://localhost:8012/tree?token=depth-segment-images-cpu``` to run Torch on CPU  \n",
    "\n",
    "This notebook describes a pipeline to estimate the metric depth of an image with the [Depth Anything V2](https://github.com/DepthAnything/Depth-Anything-V2).  It takes an input image and saves the inference of the metric depth of each pixel as a ```.json``` and a visualisation of the estimation as a ```.jpg```.  \n",
    "\n",
    "> Yang, L., Kang, B., Huang, Z., Zhao, Z., Xu, X., Feng, J., & Zhao, H. (2024). Depth Anything V2 (arXiv:2406.09414). arXiv. https://doi.org/10.48550/arXiv.2406.09414"
   ]
  },
  {
   "cell_type": "code",
   "execution_count": 43,
   "metadata": {},
   "outputs": [],
   "source": [
    "target_dir = \"data\"\n",
    "input_dir = \"place-pulse-singapore-panos-512-1024\"\n",
    "output_dir = \"place-pulse-singapore-depths-512-1024\"\n",
    "visualisation_dir = \"place-pulse-singapore-depths-visualisation-512-1024\"\n",
    "checkpoint_file = \"./depth_anything_v2_metric_vkitti_vitl.pth\""
   ]
  },
  {
   "cell_type": "code",
   "execution_count": 44,
   "metadata": {},
   "outputs": [],
   "source": [
    "import cv2\n",
    "import matplotlib.patheffects as path_effects\n",
    "import matplotlib.pyplot as plt\n",
    "import seaborn as sns\n",
    "import torch\n",
    "\n",
    "from depth_anything_v2.dpt import DepthAnythingV2\n",
    "\n",
    "import json\n",
    "import os\n",
    "from pathlib import Path"
   ]
  },
  {
   "cell_type": "code",
   "execution_count": 45,
   "metadata": {},
   "outputs": [
    {
     "name": "stderr",
     "output_type": "stream",
     "text": [
      "/tmp/ipykernel_9/1948998666.py:9: FutureWarning: You are using `torch.load` with `weights_only=False` (the current default value), which uses the default pickle module implicitly. It is possible to construct malicious pickle data which will execute arbitrary code during unpickling (See https://github.com/pytorch/pytorch/blob/main/SECURITY.md#untrusted-models for more details). In a future release, the default value for `weights_only` will be flipped to `True`. This limits the functions that could be executed during unpickling. Arbitrary objects will no longer be allowed to be loaded via this mode unless they are explicitly allowlisted by the user via `torch.serialization.add_safe_globals`. We recommend you start setting `weights_only=True` for any use case where you don't have full control of the loaded file. Please open an issue on GitHub for any issues related to this experimental feature.\n",
      "  model.load_state_dict(torch.load(checkpoint_file, map_location='cpu'))\n"
     ]
    }
   ],
   "source": [
    "device = \"cuda\" if torch.cuda.is_available() else \"mps\" if torch.backends.mps.is_available() else \"cpu\"\n",
    "model_configs = {\n",
    "    'vits': {'encoder': 'vits', 'features': 64, 'out_channels': [48, 96, 192, 384]},\n",
    "    'vitb': {'encoder': 'vitb', 'features': 128, 'out_channels': [96, 192, 384, 768]},\n",
    "    'vitl': {'encoder': 'vitl', 'features': 256, 'out_channels': [256, 512, 1024, 1024]},\n",
    "    'vitg': {'encoder': 'vitg', 'features': 384, 'out_channels': [1536, 1536, 1536, 1536]}\n",
    "}\n",
    "model = DepthAnythingV2(**model_configs[\"vitl\"])\n",
    "model.load_state_dict(torch.load(checkpoint_file, map_location='cpu'))\n",
    "model = model.to(device).eval()"
   ]
  },
  {
   "cell_type": "code",
   "execution_count": 46,
   "metadata": {},
   "outputs": [],
   "source": [
    "images_path = []\n",
    "for dirpath, dirnames, filenames in os.walk(os.path.join(target_dir, input_dir)):\n",
    "    images_path.extend(filenames)\n",
    "    break\n",
    "images_id = {}\n",
    "for image_path in images_path:\n",
    "    images_id['.'.join(image_path.split('.')[:-1])] = os.path.join(target_dir, input_dir, image_path)\n",
    "\n",
    "Path(os.path.join(target_dir, output_dir)).mkdir(parents=True, exist_ok=True)\n",
    "Path(os.path.join(target_dir, visualisation_dir)).mkdir(parents=True, exist_ok=True)\n",
    "for id, path in images_id.items():\n",
    "    if Path(os.path.join(target_dir, output_dir, f\"{id}.json\")).is_file():\n",
    "        continue\n",
    "    image = cv2.imread(path)\n",
    "    depth = model.infer_image(image)\n",
    "    with open(os.path.join(target_dir, output_dir, f\"{id}.json\"), 'w') as fp:\n",
    "        json.dump(depth.tolist(), fp)\n",
    "\n",
    "    fig, ax = plt.subplots()\n",
    "    cax = plt.imshow(depth, cmap=sns.color_palette(\"rocket\", as_cmap=True))\n",
    "    ax.axis(\"off\")\n",
    "    cbar = plt.colorbar(cax, ax=ax, orientation=\"horizontal\", fraction=0.05, pad=-0.1)\n",
    "    cbar.outline.set_edgecolor(\"white\")\n",
    "    for label in cbar.ax.get_xticklabels():\n",
    "        label.set_color(\"white\")\n",
    "        label.set_path_effects([path_effects.withStroke(linewidth=1, foreground='black')])\n",
    "    cbar.ax.tick_params(labelsize=8)\n",
    "    plt.savefig(os.path.join(target_dir, visualisation_dir, f\"{id}.png\"), bbox_inches=\"tight\")\n",
    "    plt.close(fig)"
   ]
  }
 ],
 "metadata": {
  "kernelspec": {
   "display_name": "Python 3 (ipykernel)",
   "language": "python",
   "name": "python3"
  },
  "language_info": {
   "codemirror_mode": {
    "name": "ipython",
    "version": 3
   },
   "file_extension": ".py",
   "mimetype": "text/x-python",
   "name": "python",
   "nbconvert_exporter": "python",
   "pygments_lexer": "ipython3",
   "version": "3.11.10"
  }
 },
 "nbformat": 4,
 "nbformat_minor": 2
}
