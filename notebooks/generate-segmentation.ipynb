{
 "cells": [
  {
   "cell_type": "markdown",
   "metadata": {},
   "source": [
    "If Dockerfiles have not been modified, connect to the Jupyter server with ```http://localhost:8005/tree?token=generate-segmentation```  \n",
    "\n",
    "This notebook describes a pipeline to segment an image into its ground (v000), sky (vsky), vertical (v090), and porous (hpor).  Photo\n",
    "It uses [ImageMagick](https://imagemagick.org/), [graph-segmentation](https://github.com/fsrajer/graph-segmentation), an implementation of Felzenszwalb and Huttenlocher (2004), and the [Photo Pop-up software](https://dhoiem.cs.illinois.edu/projects/context/) used in Hoiem, Efros, and Hebert (2005).\n",
    "\n",
    "Felzenszwalb, P.F., Huttenlocher, D.P. Efficient Graph-Based Image Segmentation. International Journal of Computer Vision 59, 167–181 (2004). https://doi.org/10.1023/B:VISI.0000022288.19776.77  \n",
    "D. Hoiem, A. A. Efros and M. Hebert, \"Geometric context from a single image,\" Tenth IEEE International Conference on Computer Vision (ICCV'05) Volume 1, Beijing, China, 2005, pp. 654-661 Vol. 1, doi: 10.1109/ICCV.2005.107  "
   ]
  },
  {
   "cell_type": "code",
   "execution_count": 3,
   "metadata": {},
   "outputs": [],
   "source": [
    "target_dir = \"data\"\n",
    "input_dir = \"shunfu-panos\"\n",
    "output_dir = \"shunfu-segmentations\""
   ]
  },
  {
   "cell_type": "code",
   "execution_count": 4,
   "metadata": {},
   "outputs": [],
   "source": [
    "import os\n",
    "from pathlib import Path"
   ]
  },
  {
   "cell_type": "code",
   "execution_count": 51,
   "metadata": {},
   "outputs": [],
   "source": [
    "input_path = os.path.join(target_dir, input_dir)\n",
    "output_path = os.path.join(target_dir, output_dir)\n",
    "Path(output_path).mkdir(parents=True, exist_ok=True)\n",
    "convert_dir = os.path.join(os.getcwd(), \"convert\")\n",
    "Path(convert_dir).mkdir(parents=True, exist_ok=True)\n",
    "segment_dir = os.path.join(os.getcwd(), \"graph-segmentation\")\n",
    "segment_in_dir = os.path.join(segment_dir, \"input\")\n",
    "segment_out_dir = os.path.join(segment_dir, \"output\")\n",
    "photopopup_dir = os.path.join(os.getcwd(), \"app\")\n",
    "photopopup_in_dir = os.path.join(photopopup_dir, \"input\")\n",
    "photopopup_out_dir = os.path.join(photopopup_dir, \"output\")\n"
   ]
  },
  {
   "cell_type": "code",
   "execution_count": 22,
   "metadata": {},
   "outputs": [],
   "source": [
    "!cp -a {input_path}/. {convert_dir}/\n",
    "!magick mogrify -format ppm {convert_dir}/*.jpg"
   ]
  },
  {
   "cell_type": "code",
   "execution_count": null,
   "metadata": {},
   "outputs": [],
   "source": [
    "!cp {convert_dir}/*.ppm {segment_in_dir}\n",
    "segment_shell_script = f\"\"\"count=0\n",
    "for ppm in {segment_in_dir}/*.ppm; do\n",
    "    filename=$(basename $ppm)\n",
    "    filename=${{filename%.*}}\n",
    "    {segment_dir}/segment 0.8 100 100 \"$ppm\" {segment_out_dir}/\"$filename\".pnm\n",
    "    count=$((count+1))\n",
    "    echo $count\n",
    "done\n",
    "\"\"\"\n",
    "with open(\"segment.sh\", 'w') as fp:\n",
    "    fp.write(segment_shell_script)\n",
    "!sh segment.sh"
   ]
  },
  {
   "cell_type": "code",
   "execution_count": null,
   "metadata": {},
   "outputs": [],
   "source": [
    "!cp -a {input_path}/. {photopopup_in_dir}\n",
    "!cp -a {segment_out_dir}/*.pnm {photopopup_in_dir}\n",
    "photopopup_shell_script = f\"\"\"count=0\n",
    "cd {photopopup_dir}\n",
    "for jpg in input/*.jpg; do\n",
    "    ./photoPopup ./classifiers_08_22_2005.mat \"$jpg\" pnm ./output\n",
    "    count=$((count+1))\n",
    "    echo $count\n",
    "done\n",
    "\"\"\"\n",
    "with open(\"photopopup.sh\", 'w') as fp:\n",
    "    fp.write(photopopup_shell_script)\n",
    "!sh photopopup.sh"
   ]
  },
  {
   "cell_type": "code",
   "execution_count": 57,
   "metadata": {},
   "outputs": [],
   "source": [
    "!cp -a {photopopup_out_dir}/*.hpor.pgm {output_path}\n",
    "!cp -a {photopopup_out_dir}/*.v000.pgm {output_path}\n",
    "!cp -a {photopopup_out_dir}/*.v090.pgm {output_path}\n",
    "!cp -a {photopopup_out_dir}/*.vsky.pgm {output_path}"
   ]
  }
 ],
 "metadata": {
  "kernelspec": {
   "display_name": "Python 3 (ipykernel)",
   "language": "python",
   "name": "python3"
  },
  "language_info": {
   "codemirror_mode": {
    "name": "ipython",
    "version": 3
   },
   "file_extension": ".py",
   "mimetype": "text/x-python",
   "name": "python",
   "nbconvert_exporter": "python",
   "pygments_lexer": "ipython3",
   "version": "3.12.7"
  }
 },
 "nbformat": 4,
 "nbformat_minor": 2
}
