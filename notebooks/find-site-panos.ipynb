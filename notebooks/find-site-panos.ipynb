{
 "cells": [
  {
   "cell_type": "markdown",
   "metadata": {},
   "source": [
    "If Dockerfiles have not been modified, connect to the Jupyter server with ```http://localhost:8002/tree?token=find-site-panos```  \n",
    "\n",
    "This notebook describes a pipeline to find all Google Street View panoramas with an available depth map within a bounding rectangle.  \n",
    "The bounding rectangle is specified by providing two [EPSG:4326](https://epsg.io/4326) coordinates that are used as corner points.  \n",
    "Some code and packages are derived from [Street View DEMs](https://github.com/ccheemeng/streetview-dem).  \n",
    "\n",
    "For each valid found panorama, its ID (serving as a primary key), latitude, and longitude are written to a ```.csv``` file.  \n",
    "This ```.csv``` file may be used as an input for [```collect-street-view```](collect-street-view.ipynb).  \n",
    "\n",
    "If necessary, the output ```.csv``` file may be preprocessed with a GIS software like [QGIS](https://www.qgis.org) to further refine the found panoramas beyond being defined by a rectangle."
   ]
  },
  {
   "cell_type": "code",
   "execution_count": 2,
   "metadata": {},
   "outputs": [],
   "source": [
    "target_dir = \"data\"\n",
    "lat1 = 1.3574933259463122\n",
    "lon1 = 103.83393051160616\n",
    "lat2 = 1.3465604545444212\n",
    "lon2 = 103.84198706157427\n",
    "output_filename = \"shunfu-coordinates.csv\""
   ]
  },
  {
   "cell_type": "code",
   "execution_count": 1,
   "metadata": {},
   "outputs": [],
   "source": [
    "import aiocsv\n",
    "import aiofiles\n",
    "from aiohttp import ClientSession, ClientTimeout\n",
    "\n",
    "import geo\n",
    "import streetview\n",
    "\n",
    "import asyncio\n",
    "import csv\n",
    "from pathlib import Path\n",
    "import os"
   ]
  },
  {
   "cell_type": "code",
   "execution_count": 5,
   "metadata": {},
   "outputs": [],
   "source": [
    "async def main(p1, p2, resolution, target_crs, filepath):\n",
    "    Path(filepath).parent.mkdir(parents=True, exist_ok=True)\n",
    "    with open(filepath, 'w', newline='') as csvfile:\n",
    "        csv_writer = csv.writer(csvfile)\n",
    "        csv_writer.writerow([\"id\", \"lat\", \"lon\"])\n",
    "    sample = geo.Sample(p1, p2, resolution)\n",
    "    latlon = list(sample.generate_latlon_samples())\n",
    "    lat = [x[0] for x in latlon]\n",
    "    lon = [x[1] for x in latlon]\n",
    "    radius = sample.search_radius()\n",
    "    await write_panos(lat, lon, radius, target_crs, filepath)\n",
    "\n",
    "async def write_panos(lat, lon, radius, target_crs, filepath):\n",
    "    ids = set()\n",
    "    async with ClientSession(timeout=ClientTimeout(total=None), raise_for_status=True) as session:\n",
    "        async with aiofiles.open(filepath, 'w+') as afp:\n",
    "            writer = aiocsv.AsyncWriter(afp)\n",
    "            await writer.writerow([\"id\", \"lat\", \"lon\"])\n",
    "            for i in range(len(lat)):\n",
    "                async for row in get_latlon(session, ids, lat[i], lon[i], radius, target_crs):\n",
    "                    await writer.writerow(row)\n",
    "\n",
    "async def get_latlon(session, ids, lat, lon, radius, target_crs):\n",
    "    pano = await streetview.StreetViewAPI.find_pano_full(session, lat, lon, radius)\n",
    "    if pano and pano.id not in ids and pano.elevation and pano.depth:\n",
    "        ids.add(pano.id)\n",
    "        yield (pano.id, pano.lat, pano.lon)"
   ]
  },
  {
   "cell_type": "code",
   "execution_count": 6,
   "metadata": {},
   "outputs": [
    {
     "name": "stdout",
     "output_type": "stream",
     "text": [
      "5MyG-bAHFDsnU7OVKLGd2g: index 131320 is out of bounds for axis 0 with size 131320\n",
      "pbQIEkW4a7rb0bwBtQuYdA: invalid literal for int() with base 2: ''\n",
      "lApUoRh0xyZBn-1pPR_bKw: invalid literal for int() with base 2: ''\n",
      "jWbosOkuAMr1Uwe5yYqXRg: index 131544 is out of bounds for axis 0 with size 131544\n",
      "SvB7ZaCSsFr75E6taW2ZhA: invalid literal for int() with base 2: ''\n",
      "LEVnfsNVk5hATNEDZglU4Q: index 131304 is out of bounds for axis 0 with size 131304\n",
      "c3C7FSHQiOWGZ8vbqkY7Rw: invalid literal for int() with base 2: ''\n",
      "kGcKnYBvzCyQp6x0lXgqXQ: invalid literal for int() with base 2: ''\n",
      "PP7X-mQ2Yc_h9q0ZE-1-Pg: invalid literal for int() with base 2: ''\n",
      "PP7X-mQ2Yc_h9q0ZE-1-Pg: invalid literal for int() with base 2: ''\n",
      "BzW8lY2sCkSS2mK8Z0Xe_g: invalid literal for int() with base 2: ''\n",
      "gFJyATUaanlEmPNHpCr44Q: invalid literal for int() with base 2: ''\n"
     ]
    }
   ],
   "source": [
    "await main((lat1, lon1), (lat2, lon2), 10, 4326, os.path.join(target_dir, output_filename))"
   ]
  }
 ],
 "metadata": {
  "kernelspec": {
   "display_name": "Python 3 (ipykernel)",
   "language": "python",
   "name": "python3"
  }
 },
 "nbformat": 4,
 "nbformat_minor": 2
}
