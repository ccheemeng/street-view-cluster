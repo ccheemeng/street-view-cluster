{
 "cells": [
  {
   "cell_type": "markdown",
   "metadata": {},
   "source": [
    "If Dockerfiles have not been modified, connect to the Jupyter server with ```http://localhost:8019/tree?token=project-segmented-images```  \n",
    "\n",
    "This notebook projects segmented panoramas onto an input mesh.describes a pipeline to download panoramas and their corresponding depth maps from Google Street View.  \n",
    "It takes an input mesh file and segmented panoramas as ```.json```s with ```List[List[int]]```, and returns an output segmented point cloud as a ```.csv```.  \n",
    "It also takes an input ```.csv``` describing the latitude and longitude of the input point clouds.  \n",
    "The mesh is assumed to be geolocated by EPSG:3414.  "
   ]
  },
  {
   "cell_type": "code",
   "execution_count": 102,
   "metadata": {},
   "outputs": [],
   "source": [
    "target_dir = \"data\"\n",
    "panorama_dir = \"thomson-segmented\"\n",
    "output_dir = \"thomson-segmented-projected\"\n",
    "mesh_path = \"projection-mesh.obj\"\n",
    "coords_path = \"thomson-id.csv\"\n",
    "# projection_length = 70"
   ]
  },
  {
   "cell_type": "code",
   "execution_count": 103,
   "metadata": {},
   "outputs": [],
   "source": [
    "import meshlib\n",
    "from pyproj import Transformer\n",
    "\n",
    "import csv\n",
    "import json\n",
    "import math\n",
    "import os\n",
    "from pathlib import Path"
   ]
  },
  {
   "cell_type": "code",
   "execution_count": 104,
   "metadata": {},
   "outputs": [],
   "source": [
    "def pixel_to_point(x, y, img_width, img_height, length,\n",
    "                  x_range=(-1.0, 1.0), y_range=(-1.0, 1.0), heading=0.0):\n",
    "    pi = math.pi\n",
    "    sin = math.sin\n",
    "    cos = math.cos\n",
    "    \n",
    "    x0 = x_range[0]\n",
    "    dx = x_range[1] - x0\n",
    "    y0 = y_range[0]\n",
    "    dy = y_range[1] - y0\n",
    "    \n",
    "    x_norm = ((x + 0.5) / img_width) * dx + x0\n",
    "    y_norm = ((y + 0.5) / img_height) * dy + y0\n",
    "    theta = -1.0 * pi * x_norm\n",
    "    phi = -1.0 * pi / 2 * y_norm\n",
    "    point = [\n",
    "        -1.0 * length * sin(theta - heading) * cos(phi),\n",
    "        length * cos(theta - heading) * cos(phi),\n",
    "        length * sin(phi)\n",
    "    ]\n",
    "    \n",
    "    return point"
   ]
  },
  {
   "cell_type": "code",
   "execution_count": null,
   "metadata": {},
   "outputs": [
    {
     "name": "stdout",
     "output_type": "stream",
     "text": [
      "1 --Y9DvKG_QeCvB9fkR2L_Q\n"
     ]
    }
   ],
   "source": [
    "transformer = Transformer.from_crs(4326, 3414, always_xy=True)\n",
    "coords = {}\n",
    "with open(os.path.join(target_dir, coords_path), 'r') as fp:\n",
    "    reader = csv.reader(fp)\n",
    "    next(reader)\n",
    "    for row in reader:\n",
    "        lat = float(row[1])\n",
    "        lon = float(row[2])\n",
    "        xy = transformer.transform(lon, lat)\n",
    "        coords[row[0]] = xy\n",
    "\n",
    "mesh = meshlib.mrmeshpy.loadMesh(os.path.join(target_dir, mesh_path))\n",
    "\n",
    "segmentation_paths = []\n",
    "for root, dirs, files in os.walk(os.path.join(target_dir, panorama_dir)):\n",
    "    segmentation_paths.extend(files)\n",
    "    break\n",
    "\n",
    "k = 0\n",
    "Path(os.path.join(target_dir, output_dir)).mkdir(parents=True, exist_ok=True)\n",
    "for segmentation_path in segmentation_paths:\n",
    "    id = '.'.join(segmentation_path.split('.')[:-1])\n",
    "    path = os.path.join(target_dir, panorama_dir, segmentation_path)\n",
    "\n",
    "    if k % 100 == 0:\n",
    "        print(k + 1, id)\n",
    "\n",
    "    with open(path, 'r') as fp:\n",
    "        segmentation = json.load(fp)\n",
    "    img_height = len(segmentation)\n",
    "    img_width = len(segmentation[0])\n",
    "    points = []\n",
    "\n",
    "    for i in range(img_height):\n",
    "        for j in range(img_width):\n",
    "            point = pixel_to_point(j, i, img_width, img_height, 1)\n",
    "            origin = coords[id]\n",
    "            p = meshlib.mrmeshpy.Vector3f(origin[0], origin[1], 0.0)\n",
    "            d = meshlib.mrmeshpy.Vector3f(point[0], point[1], point[2])\n",
    "            line = meshlib.mrmeshpy.Line3f(p, d)\n",
    "            intersection = meshlib.mrmeshpy.rayMeshIntersect(mesh, line, rayEnd=70)\n",
    "            if intersection:\n",
    "                point = intersection.proj.point\n",
    "                label = segmentation[i][j]\n",
    "                points.append([point.x, point.y, point.z, label])\n",
    "    \n",
    "    with open(os.path.join(target_dir, output_dir, f\"{id}.csv\"), 'w') as fp:\n",
    "        writer = csv.writer(fp)\n",
    "        writer.writerows(points)\n",
    "\n",
    "    k += 1"
   ]
  }
 ],
 "metadata": {
  "kernelspec": {
   "display_name": "Python 3 (ipykernel)",
   "language": "python",
   "name": "python3"
  },
  "language_info": {
   "codemirror_mode": {
    "name": "ipython",
    "version": 3
   },
   "file_extension": ".py",
   "mimetype": "text/x-python",
   "name": "python",
   "nbconvert_exporter": "python",
   "pygments_lexer": "ipython3",
   "version": "3.12.8"
  }
 },
 "nbformat": 4,
 "nbformat_minor": 2
}
